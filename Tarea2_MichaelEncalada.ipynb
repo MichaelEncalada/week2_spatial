{
 "cells": [
  {
   "cell_type": "markdown",
   "metadata": {},
   "source": [
    "# Tarea 2"
   ]
  },
  {
   "cell_type": "markdown",
   "metadata": {},
   "source": [
    "## Challenge 1"
   ]
  },
  {
   "cell_type": "markdown",
   "metadata": {},
   "source": [
    "<div class=\"alert alert-danger\">\n",
    "  <strong>CHALLENGE 1</strong>\n",
    "    <br> * Create a public repo named \"week2_spatial\" with its README file. (1 point)\n",
    "    <br> * Clone the repo to your computer. (1 point)\n",
    "    <br> * In the local repo in your computer, create a folder named \"data\". (1 point)\n",
    "    <br> * Get Three maps for the same country: the lines can be rivers, highways or similar; the points have to be airports; and the polygons  of the 2rd administrative division ('provinces' in Perú, 'counties' in USA). Download those maps into the \"data\" folder. You can find airports here: https://ourairports.com/data/ (5 points)\n",
    "    <br> * Plot in one map the three layers of maps, including the code. (5 points)\n",
    "    <br> * Publish the three layer map. (3 points)\n",
    "    <br> * Update the README to offer a quick explanation, the data dictionary, and the link to the published map. (2 points)\n",
    "    <br> * Make sure the code is well organized (explanations, comments, no warnings, no python messages). (2 points)\n",
    "    \n",
    "</div>"
   ]
  },
  {
   "cell_type": "markdown",
   "metadata": {},
   "source": [
    "By Michael Encalada"
   ]
  },
  {
   "cell_type": "markdown",
   "metadata": {},
   "source": [
    "### Subir mapas"
   ]
  },
  {
   "cell_type": "markdown",
   "metadata": {
    "id": "BUOIWMOTtUVB"
   },
   "source": [
    "Leer los archivos con **geopandas**:"
   ]
  },
  {
   "cell_type": "code",
   "execution_count": 1,
   "metadata": {
    "id": "KJV5G0POtUVB"
   },
   "outputs": [],
   "source": [
    "import os, geopandas as gpd"
   ]
  },
  {
   "cell_type": "markdown",
   "metadata": {},
   "source": [
    "Lidiar con los Warnings"
   ]
  },
  {
   "cell_type": "code",
   "execution_count": 2,
   "metadata": {},
   "outputs": [],
   "source": [
    "import warnings\n",
    "from shapely.errors import ShapelyDeprecationWarning\n",
    "warnings.filterwarnings(\"ignore\", category=ShapelyDeprecationWarning)"
   ]
  },
  {
   "cell_type": "code",
   "execution_count": 3,
   "metadata": {},
   "outputs": [
    {
     "name": "stdout",
     "output_type": "stream",
     "text": [
      "C:\\Users\\Michael Encalada\\Documents\\GitHub\\Magallanes\\week2_spatial\n"
     ]
    }
   ],
   "source": [
    "#revisar el directorio\n",
    "print(os.getcwd())"
   ]
  },
  {
   "cell_type": "code",
   "execution_count": 4,
   "metadata": {},
   "outputs": [],
   "source": [
    "os.chdir(\"C:/Users/Michael Encalada/Documents/GitHub/Magallanes/week2_spatial\")"
   ]
  },
  {
   "cell_type": "code",
   "execution_count": 5,
   "metadata": {},
   "outputs": [],
   "source": [
    "#subir archivos\n",
    "countries=gpd.read_file(os.path.join(\"maps\",\"World_Countries\",\"World_Countries.shp\"))"
   ]
  },
  {
   "cell_type": "code",
   "execution_count": 6,
   "metadata": {
    "id": "QrbZt4g5tUVD"
   },
   "outputs": [
    {
     "data": {
      "text/html": [
       "<div>\n",
       "<style scoped>\n",
       "    .dataframe tbody tr th:only-of-type {\n",
       "        vertical-align: middle;\n",
       "    }\n",
       "\n",
       "    .dataframe tbody tr th {\n",
       "        vertical-align: top;\n",
       "    }\n",
       "\n",
       "    .dataframe thead th {\n",
       "        text-align: right;\n",
       "    }\n",
       "</style>\n",
       "<table border=\"1\" class=\"dataframe\">\n",
       "  <thead>\n",
       "    <tr style=\"text-align: right;\">\n",
       "      <th></th>\n",
       "      <th>COUNTRY</th>\n",
       "      <th>geometry</th>\n",
       "    </tr>\n",
       "  </thead>\n",
       "  <tbody>\n",
       "    <tr>\n",
       "      <th>0</th>\n",
       "      <td>Aruba (Netherlands)</td>\n",
       "      <td>POLYGON ((-69.88223 12.41111, -69.94695 12.436...</td>\n",
       "    </tr>\n",
       "    <tr>\n",
       "      <th>1</th>\n",
       "      <td>Antigua and Barbuda</td>\n",
       "      <td>MULTIPOLYGON (((-61.73889 17.54055, -61.75195 ...</td>\n",
       "    </tr>\n",
       "    <tr>\n",
       "      <th>2</th>\n",
       "      <td>Afghanistan</td>\n",
       "      <td>POLYGON ((61.27656 35.60725, 61.29638 35.62853...</td>\n",
       "    </tr>\n",
       "    <tr>\n",
       "      <th>3</th>\n",
       "      <td>Algeria</td>\n",
       "      <td>POLYGON ((-5.15213 30.18047, -5.13917 30.19236...</td>\n",
       "    </tr>\n",
       "    <tr>\n",
       "      <th>4</th>\n",
       "      <td>Azerbaijan</td>\n",
       "      <td>MULTIPOLYGON (((46.54037 38.87559, 46.49554 38...</td>\n",
       "    </tr>\n",
       "  </tbody>\n",
       "</table>\n",
       "</div>"
      ],
      "text/plain": [
       "               COUNTRY                                           geometry\n",
       "0  Aruba (Netherlands)  POLYGON ((-69.88223 12.41111, -69.94695 12.436...\n",
       "1  Antigua and Barbuda  MULTIPOLYGON (((-61.73889 17.54055, -61.75195 ...\n",
       "2          Afghanistan  POLYGON ((61.27656 35.60725, 61.29638 35.62853...\n",
       "3              Algeria  POLYGON ((-5.15213 30.18047, -5.13917 30.19236...\n",
       "4           Azerbaijan  MULTIPOLYGON (((46.54037 38.87559, 46.49554 38..."
      ]
     },
     "execution_count": 6,
     "metadata": {},
     "output_type": "execute_result"
    }
   ],
   "source": [
    "# Revisar\n",
    "countries.head()"
   ]
  },
  {
   "cell_type": "code",
   "execution_count": 7,
   "metadata": {
    "id": "vPHdGEtatUVD"
   },
   "outputs": [
    {
     "data": {
      "text/html": [
       "<div>\n",
       "<style scoped>\n",
       "    .dataframe tbody tr th:only-of-type {\n",
       "        vertical-align: middle;\n",
       "    }\n",
       "\n",
       "    .dataframe tbody tr th {\n",
       "        vertical-align: top;\n",
       "    }\n",
       "\n",
       "    .dataframe thead th {\n",
       "        text-align: right;\n",
       "    }\n",
       "</style>\n",
       "<table border=\"1\" class=\"dataframe\">\n",
       "  <thead>\n",
       "    <tr style=\"text-align: right;\">\n",
       "      <th></th>\n",
       "      <th>COUNTRY</th>\n",
       "      <th>geometry</th>\n",
       "    </tr>\n",
       "  </thead>\n",
       "  <tbody>\n",
       "  </tbody>\n",
       "</table>\n",
       "</div>"
      ],
      "text/plain": [
       "Empty GeoDataFrame\n",
       "Columns: [COUNTRY, geometry]\n",
       "Index: []"
      ]
     },
     "execution_count": 7,
     "metadata": {},
     "output_type": "execute_result"
    }
   ],
   "source": [
    "# Revisar missing values\n",
    "countries[countries.isna().any(axis=1)]"
   ]
  },
  {
   "cell_type": "code",
   "execution_count": 8,
   "metadata": {
    "id": "TWXmBv-vtUVD",
    "scrolled": true
   },
   "outputs": [
    {
     "name": "stdout",
     "output_type": "stream",
     "text": [
      "<class 'geopandas.geodataframe.GeoDataFrame'>\n",
      "RangeIndex: 252 entries, 0 to 251\n",
      "Data columns (total 2 columns):\n",
      " #   Column    Non-Null Count  Dtype   \n",
      "---  ------    --------------  -----   \n",
      " 0   COUNTRY   252 non-null    object  \n",
      " 1   geometry  252 non-null    geometry\n",
      "dtypes: geometry(1), object(1)\n",
      "memory usage: 4.1+ KB\n"
     ]
    }
   ],
   "source": [
    "# types\n",
    "countries.info()"
   ]
  },
  {
   "cell_type": "markdown",
   "metadata": {},
   "source": [
    "Abrir los otros archivos"
   ]
  },
  {
   "cell_type": "code",
   "execution_count": 9,
   "metadata": {
    "id": "lPbJ4wFHtUVD",
    "jupyter": {
     "source_hidden": true
    }
   },
   "outputs": [],
   "source": [
    "rivers=gpd.read_file(os.path.join(\"maps\",\"World_Hydrography\",\"World_Hydrography.shp\"))\n",
    "cities=gpd.read_file(os.path.join(\"maps\",\"World_Cities\",\"World_Cities.shp\"))"
   ]
  },
  {
   "cell_type": "markdown",
   "metadata": {
    "id": "prkK6IA8tUVE"
   },
   "source": [
    "Verificar la misma proyección de las capas (**CRS**):"
   ]
  },
  {
   "cell_type": "code",
   "execution_count": 10,
   "metadata": {
    "id": "8G0MkpZ1tUVE",
    "scrolled": true
   },
   "outputs": [
    {
     "data": {
      "text/plain": [
       "True"
      ]
     },
     "execution_count": 10,
     "metadata": {},
     "output_type": "execute_result"
    }
   ],
   "source": [
    "countries.crs==cities.crs==cities.crs"
   ]
  },
  {
   "cell_type": "markdown",
   "metadata": {
    "id": "4WVBq3bUtUVE"
   },
   "source": [
    "## Subseteo\n",
    "\n",
    "Filtrar por el país de \"Panama\""
   ]
  },
  {
   "cell_type": "code",
   "execution_count": 11,
   "metadata": {
    "id": "NsiI-8ZYtUVE"
   },
   "outputs": [],
   "source": [
    "panama=countries[countries.COUNTRY=='Panama']"
   ]
  },
  {
   "cell_type": "markdown",
   "metadata": {
    "id": "biux_VKutUVF"
   },
   "source": [
    "Realizar lo mismo con los otros datos"
   ]
  },
  {
   "cell_type": "code",
   "execution_count": 12,
   "metadata": {
    "id": "ltxxI2OotUVF"
   },
   "outputs": [],
   "source": [
    "citiesPanama_clipped = gpd.clip(gdf=cities,\n",
    "                          mask=panama)\n",
    "riversPanama_clipped = gpd.clip(gdf=rivers,\n",
    "                               mask=panama)"
   ]
  },
  {
   "cell_type": "markdown",
   "metadata": {
    "id": "2nXd5aiRtUVF"
   },
   "source": [
    "Then, you can plot the clipped version:"
   ]
  },
  {
   "cell_type": "code",
   "execution_count": 13,
   "metadata": {
    "id": "dEfKc5nQtUVF"
   },
   "outputs": [
    {
     "data": {
      "image/png": "[encoded data removed]",
      "text/plain": [
       "<Figure size 500x500 with 1 Axes>"
      ]
     },
     "metadata": {},
     "output_type": "display_data"
    }
   ],
   "source": [
    "base = panama.plot(facecolor=\"greenyellow\", edgecolor='black', linewidth=0.4,figsize=(5,5))\n"
   ]
  },
  {
   "cell_type": "markdown",
   "metadata": {
    "id": "L1mpBa1fjXe7"
   },
   "source": [
    "Revisar el archivo"
   ]
  },
  {
   "cell_type": "code",
   "execution_count": 14,
   "metadata": {
    "id": "HG8IfwatjXe8"
   },
   "outputs": [
    {
     "data": {
      "text/plain": [
       "177    MultiPolygon\n",
       "dtype: object"
      ]
     },
     "execution_count": 14,
     "metadata": {},
     "output_type": "execute_result"
    }
   ],
   "source": [
    "panama.geom_type"
   ]
  },
  {
   "cell_type": "markdown",
   "metadata": {
    "id": "kpg-73oUjXe8"
   },
   "source": [
    "<a class=\"anchor\" id=\"1\"></a>\n",
    "\n",
    "## Map Projection"
   ]
  },
  {
   "cell_type": "code",
   "execution_count": 15,
   "metadata": {
    "id": "2EIHOwdtjXfD"
   },
   "outputs": [
    {
     "data": {
      "text/plain": [
       "[Axis(name=Geodetic latitude, abbrev=Lat, direction=north, unit_auth_code=EPSG, unit_code=9122, unit_name=degree),\n",
       " Axis(name=Geodetic longitude, abbrev=Lon, direction=east, unit_auth_code=EPSG, unit_code=9122, unit_name=degree)]"
      ]
     },
     "execution_count": 15,
     "metadata": {},
     "output_type": "execute_result"
    }
   ],
   "source": [
    "# check units\n",
    "panama.crs.axis_info"
   ]
  },
  {
   "cell_type": "markdown",
   "metadata": {
    "id": "YoEbVZ-HjXfD"
   },
   "source": [
    "Calcular el centroide"
   ]
  },
  {
   "cell_type": "code",
   "execution_count": 16,
   "metadata": {
    "id": "SiooV6t0jXfD"
   },
   "outputs": [
    {
     "name": "stderr",
     "output_type": "stream",
     "text": [
      "C:\\Users\\Michael Encalada\\AppData\\Local\\Temp\\ipykernel_12476\\905011849.py:2: UserWarning: Geometry is in a geographic CRS. Results from 'centroid' are likely incorrect. Use 'GeoSeries.to_crs()' to re-project geometries to a projected CRS before this operation.\n",
      "\n",
      "  panama.centroid\n"
     ]
    },
    {
     "data": {
      "text/plain": [
       "177    POINT (-80.10110 8.50648)\n",
       "dtype: geometry"
      ]
     },
     "execution_count": 16,
     "metadata": {},
     "output_type": "execute_result"
    }
   ],
   "source": [
    "# centroid\n",
    "panama.centroid"
   ]
  },
  {
   "cell_type": "markdown",
   "metadata": {
    "id": "FuoioDgIjXfD"
   },
   "source": [
    "### Reprojección"
   ]
  },
  {
   "cell_type": "code",
   "execution_count": 17,
   "metadata": {
    "id": "Y2uqiyE4jXfE"
   },
   "outputs": [
    {
     "data": {
      "text/plain": [
       "[Axis(name=Easting, abbrev=X, direction=east, unit_auth_code=EPSG, unit_code=9001, unit_name=metre),\n",
       " Axis(name=Northing, abbrev=Y, direction=north, unit_auth_code=EPSG, unit_code=9001, unit_name=metre)]"
      ]
     },
     "execution_count": 17,
     "metadata": {},
     "output_type": "execute_result"
    }
   ],
   "source": [
    "# recommended for Panama (meters)\n",
    "panama.to_crs(5469).crs.axis_info"
   ]
  },
  {
   "cell_type": "code",
   "execution_count": 18,
   "metadata": {
    "id": "RPXpz6bujXfE"
   },
   "outputs": [
    {
     "data": {
      "text/plain": [
       "177    POINT (488913.641 305099.363)\n",
       "dtype: geometry"
      ]
     },
     "execution_count": 18,
     "metadata": {},
     "output_type": "execute_result"
    }
   ],
   "source": [
    "# now this works\n",
    "panama.to_crs(5469).centroid"
   ]
  },
  {
   "cell_type": "code",
   "execution_count": 19,
   "metadata": {
    "id": "HfXQhulOjXfE"
   },
   "outputs": [
    {
     "data": {
      "text/plain": [
       "<Axes: >"
      ]
     },
     "execution_count": 19,
     "metadata": {},
     "output_type": "execute_result"
    },
    {
     "data": {
      "image/png": "[encoded data removed]",
      "text/plain": [
       "<Figure size 640x480 with 1 Axes>"
      ]
     },
     "metadata": {},
     "output_type": "display_data"
    }
   ],
   "source": [
    "# replotting:\n",
    "\n",
    "base5469=panama.to_crs(5469).plot()\n",
    "panama.to_crs(5469).centroid.plot(color='red',ax=base5469)"
   ]
  },
  {
   "cell_type": "markdown",
   "metadata": {
    "id": "pXEnSZHGjXfE"
   },
   "source": [
    "Let's keep the projected version for all our maps:"
   ]
  },
  {
   "cell_type": "code",
   "execution_count": 20,
   "metadata": {
    "id": "edko4pkRjXfE"
   },
   "outputs": [],
   "source": [
    "panama_5469=panama.to_crs(5469)"
   ]
  },
  {
   "cell_type": "code",
   "execution_count": 21,
   "metadata": {
    "id": "ZZJjAn8XjXfF"
   },
   "outputs": [
    {
     "name": "stderr",
     "output_type": "stream",
     "text": [
      "C:\\Users\\Michael Encalada\\anaconda3\\envs\\Magallanes_Taller\\Lib\\site-packages\\geopandas\\io\\file.py:299: FutureWarning: pandas.Int64Index is deprecated and will be removed from pandas in a future version. Use pandas.Index with the appropriate dtype instead.\n",
      "  pd.Int64Index,\n"
     ]
    }
   ],
   "source": [
    "# saving\n",
    "import os\n",
    "\n",
    "panama_5469.to_file(os.path.join(\"maps\",\"panamaMaps_5469.gpkg\"), layer='country', driver=\"GPKG\")"
   ]
  },
  {
   "cell_type": "code",
   "execution_count": 22,
   "metadata": {
    "id": "6iA_-rpwjXfF"
   },
   "outputs": [
    {
     "data": {
      "text/plain": [
       "177    POINT (488913.641 305099.363)\n",
       "dtype: geometry"
      ]
     },
     "execution_count": 22,
     "metadata": {},
     "output_type": "execute_result"
    }
   ],
   "source": [
    "panama_5469.centroid"
   ]
  },
  {
   "cell_type": "code",
   "execution_count": 23,
   "metadata": {
    "id": "dHHE6llIjXfF"
   },
   "outputs": [
    {
     "name": "stderr",
     "output_type": "stream",
     "text": [
      "C:\\Users\\Michael Encalada\\anaconda3\\envs\\Magallanes_Taller\\Lib\\site-packages\\geopandas\\io\\file.py:299: FutureWarning: pandas.Int64Index is deprecated and will be removed from pandas in a future version. Use pandas.Index with the appropriate dtype instead.\n",
      "  pd.Int64Index,\n"
     ]
    }
   ],
   "source": [
    "panama_5469.centroid.to_file(os.path.join(\"maps\",\"panamaMaps_5469.gpkg\"), layer='centroid', driver=\"GPKG\")"
   ]
  },
  {
   "cell_type": "markdown",
   "metadata": {},
   "source": [
    "### Aeropuertos"
   ]
  },
  {
   "cell_type": "code",
   "execution_count": 24,
   "metadata": {
    "id": "b4lgTi3XjXfF"
   },
   "outputs": [
    {
     "data": {
      "text/html": [
       "<div>\n",
       "<style scoped>\n",
       "    .dataframe tbody tr th:only-of-type {\n",
       "        vertical-align: middle;\n",
       "    }\n",
       "\n",
       "    .dataframe tbody tr th {\n",
       "        vertical-align: top;\n",
       "    }\n",
       "\n",
       "    .dataframe thead th {\n",
       "        text-align: right;\n",
       "    }\n",
       "</style>\n",
       "<table border=\"1\" class=\"dataframe\">\n",
       "  <thead>\n",
       "    <tr style=\"text-align: right;\">\n",
       "      <th></th>\n",
       "      <th>id</th>\n",
       "      <th>ident</th>\n",
       "      <th>type</th>\n",
       "      <th>name</th>\n",
       "      <th>latitude_deg</th>\n",
       "      <th>longitude_deg</th>\n",
       "      <th>elevation_ft</th>\n",
       "      <th>continent</th>\n",
       "      <th>country_name</th>\n",
       "      <th>iso_country</th>\n",
       "      <th>...</th>\n",
       "      <th>municipality</th>\n",
       "      <th>scheduled_service</th>\n",
       "      <th>gps_code</th>\n",
       "      <th>iata_code</th>\n",
       "      <th>local_code</th>\n",
       "      <th>home_link</th>\n",
       "      <th>wikipedia_link</th>\n",
       "      <th>keywords</th>\n",
       "      <th>score</th>\n",
       "      <th>last_updated</th>\n",
       "    </tr>\n",
       "  </thead>\n",
       "  <tbody>\n",
       "    <tr>\n",
       "      <th>0</th>\n",
       "      <td>4793</td>\n",
       "      <td>MPTO</td>\n",
       "      <td>large_airport</td>\n",
       "      <td>Tocumen International Airport</td>\n",
       "      <td>9.071360</td>\n",
       "      <td>-79.383499</td>\n",
       "      <td>135.0</td>\n",
       "      <td>NaN</td>\n",
       "      <td>Panama</td>\n",
       "      <td>PA</td>\n",
       "      <td>...</td>\n",
       "      <td>Tocumen</td>\n",
       "      <td>1</td>\n",
       "      <td>MPTO</td>\n",
       "      <td>PTY</td>\n",
       "      <td>NaN</td>\n",
       "      <td>https://www.tocumenpanama.aero/</td>\n",
       "      <td>https://en.wikipedia.org/wiki/Tocumen_Internat...</td>\n",
       "      <td>La Joya No 1</td>\n",
       "      <td>1050</td>\n",
       "      <td>2024-04-29T19:09:59+00:00</td>\n",
       "    </tr>\n",
       "    <tr>\n",
       "      <th>1</th>\n",
       "      <td>4791</td>\n",
       "      <td>MPMG</td>\n",
       "      <td>medium_airport</td>\n",
       "      <td>Marcos A. Gelabert International Airport</td>\n",
       "      <td>8.973340</td>\n",
       "      <td>-79.555603</td>\n",
       "      <td>31.0</td>\n",
       "      <td>NaN</td>\n",
       "      <td>Panama</td>\n",
       "      <td>PA</td>\n",
       "      <td>...</td>\n",
       "      <td>Albrook</td>\n",
       "      <td>1</td>\n",
       "      <td>MPMG</td>\n",
       "      <td>PAC</td>\n",
       "      <td>NaN</td>\n",
       "      <td>NaN</td>\n",
       "      <td>https://en.wikipedia.org/wiki/Albrook_%22Marco...</td>\n",
       "      <td>Balboa. Albrook AFS. MPLB</td>\n",
       "      <td>750</td>\n",
       "      <td>2024-05-18T12:23:24+00:00</td>\n",
       "    </tr>\n",
       "    <tr>\n",
       "      <th>2</th>\n",
       "      <td>30768</td>\n",
       "      <td>MPHO</td>\n",
       "      <td>small_airport</td>\n",
       "      <td>Panamá Pacífico International Airport</td>\n",
       "      <td>8.914790</td>\n",
       "      <td>-79.599602</td>\n",
       "      <td>52.0</td>\n",
       "      <td>NaN</td>\n",
       "      <td>Panama</td>\n",
       "      <td>PA</td>\n",
       "      <td>...</td>\n",
       "      <td>Panamá City</td>\n",
       "      <td>1</td>\n",
       "      <td>MPPA</td>\n",
       "      <td>BLB</td>\n",
       "      <td>NaN</td>\n",
       "      <td>http://www.panamapacifico.com/</td>\n",
       "      <td>https://en.wikipedia.org/wiki/Panam%C3%A1_Pac%...</td>\n",
       "      <td>HOW, Howard Air Force Base, Panama Pacifico</td>\n",
       "      <td>100</td>\n",
       "      <td>2021-01-12T11:57:17+00:00</td>\n",
       "    </tr>\n",
       "    <tr>\n",
       "      <th>3</th>\n",
       "      <td>4786</td>\n",
       "      <td>MPBO</td>\n",
       "      <td>medium_airport</td>\n",
       "      <td>Bocas del Toro International Airport</td>\n",
       "      <td>9.340850</td>\n",
       "      <td>-82.250801</td>\n",
       "      <td>10.0</td>\n",
       "      <td>NaN</td>\n",
       "      <td>Panama</td>\n",
       "      <td>PA</td>\n",
       "      <td>...</td>\n",
       "      <td>Isla Colón</td>\n",
       "      <td>1</td>\n",
       "      <td>MPBO</td>\n",
       "      <td>BOC</td>\n",
       "      <td>NaN</td>\n",
       "      <td>NaN</td>\n",
       "      <td>https://en.wikipedia.org/wiki/Bocas_del_Toro_%...</td>\n",
       "      <td>Jose Ezequiel Hall</td>\n",
       "      <td>750</td>\n",
       "      <td>2021-08-07T11:19:30+00:00</td>\n",
       "    </tr>\n",
       "    <tr>\n",
       "      <th>87</th>\n",
       "      <td>505212</td>\n",
       "      <td>PA-0035</td>\n",
       "      <td>closed</td>\n",
       "      <td>Ingenio Las Cabras Airstrip</td>\n",
       "      <td>7.900440</td>\n",
       "      <td>-80.540391</td>\n",
       "      <td>112.0</td>\n",
       "      <td>NaN</td>\n",
       "      <td>Panama</td>\n",
       "      <td>PA</td>\n",
       "      <td>...</td>\n",
       "      <td>Las Cabras</td>\n",
       "      <td>0</td>\n",
       "      <td>NaN</td>\n",
       "      <td>NaN</td>\n",
       "      <td>NaN</td>\n",
       "      <td>NaN</td>\n",
       "      <td>NaN</td>\n",
       "      <td>NaN</td>\n",
       "      <td>0</td>\n",
       "      <td>2022-12-01T19:01:28+00:00</td>\n",
       "    </tr>\n",
       "    <tr>\n",
       "      <th>88</th>\n",
       "      <td>506055</td>\n",
       "      <td>PA-0041</td>\n",
       "      <td>closed</td>\n",
       "      <td>Limones Airstrip</td>\n",
       "      <td>7.619267</td>\n",
       "      <td>-80.946937</td>\n",
       "      <td>141.0</td>\n",
       "      <td>NaN</td>\n",
       "      <td>Panama</td>\n",
       "      <td>PA</td>\n",
       "      <td>...</td>\n",
       "      <td>Limones</td>\n",
       "      <td>0</td>\n",
       "      <td>NaN</td>\n",
       "      <td>NaN</td>\n",
       "      <td>NaN</td>\n",
       "      <td>NaN</td>\n",
       "      <td>NaN</td>\n",
       "      <td>NaN</td>\n",
       "      <td>0</td>\n",
       "      <td>2023-01-13T20:27:06+00:00</td>\n",
       "    </tr>\n",
       "    <tr>\n",
       "      <th>89</th>\n",
       "      <td>506054</td>\n",
       "      <td>PA-0040</td>\n",
       "      <td>closed</td>\n",
       "      <td>La Providencia Airstrip</td>\n",
       "      <td>7.887800</td>\n",
       "      <td>-80.978748</td>\n",
       "      <td>121.0</td>\n",
       "      <td>NaN</td>\n",
       "      <td>Panama</td>\n",
       "      <td>PA</td>\n",
       "      <td>...</td>\n",
       "      <td>Ponuga</td>\n",
       "      <td>0</td>\n",
       "      <td>NaN</td>\n",
       "      <td>NaN</td>\n",
       "      <td>NaN</td>\n",
       "      <td>NaN</td>\n",
       "      <td>NaN</td>\n",
       "      <td>NaN</td>\n",
       "      <td>0</td>\n",
       "      <td>2023-01-13T20:11:19+00:00</td>\n",
       "    </tr>\n",
       "    <tr>\n",
       "      <th>90</th>\n",
       "      <td>430649</td>\n",
       "      <td>PA-0033</td>\n",
       "      <td>heliport</td>\n",
       "      <td>Soloy Heliport</td>\n",
       "      <td>8.483100</td>\n",
       "      <td>-82.081600</td>\n",
       "      <td>424.0</td>\n",
       "      <td>NaN</td>\n",
       "      <td>Panama</td>\n",
       "      <td>PA</td>\n",
       "      <td>...</td>\n",
       "      <td>Soloy</td>\n",
       "      <td>0</td>\n",
       "      <td>NaN</td>\n",
       "      <td>NaN</td>\n",
       "      <td>NaN</td>\n",
       "      <td>NaN</td>\n",
       "      <td>NaN</td>\n",
       "      <td>NaN</td>\n",
       "      <td>0</td>\n",
       "      <td>2022-10-23T00:48:07+00:00</td>\n",
       "    </tr>\n",
       "  </tbody>\n",
       "</table>\n",
       "<p>8 rows × 23 columns</p>\n",
       "</div>"
      ],
      "text/plain": [
       "        id    ident            type                                      name  \\\n",
       "0     4793     MPTO   large_airport             Tocumen International Airport   \n",
       "1     4791     MPMG  medium_airport  Marcos A. Gelabert International Airport   \n",
       "2    30768     MPHO   small_airport     Panamá Pacífico International Airport   \n",
       "3     4786     MPBO  medium_airport      Bocas del Toro International Airport   \n",
       "87  505212  PA-0035          closed               Ingenio Las Cabras Airstrip   \n",
       "88  506055  PA-0041          closed                          Limones Airstrip   \n",
       "89  506054  PA-0040          closed                   La Providencia Airstrip   \n",
       "90  430649  PA-0033        heliport                            Soloy Heliport   \n",
       "\n",
       "    latitude_deg  longitude_deg  elevation_ft continent country_name  \\\n",
       "0       9.071360     -79.383499         135.0       NaN       Panama   \n",
       "1       8.973340     -79.555603          31.0       NaN       Panama   \n",
       "2       8.914790     -79.599602          52.0       NaN       Panama   \n",
       "3       9.340850     -82.250801          10.0       NaN       Panama   \n",
       "87      7.900440     -80.540391         112.0       NaN       Panama   \n",
       "88      7.619267     -80.946937         141.0       NaN       Panama   \n",
       "89      7.887800     -80.978748         121.0       NaN       Panama   \n",
       "90      8.483100     -82.081600         424.0       NaN       Panama   \n",
       "\n",
       "   iso_country  ... municipality scheduled_service gps_code iata_code  \\\n",
       "0           PA  ...      Tocumen                 1     MPTO       PTY   \n",
       "1           PA  ...      Albrook                 1     MPMG       PAC   \n",
       "2           PA  ...  Panamá City                 1     MPPA       BLB   \n",
       "3           PA  ...   Isla Colón                 1     MPBO       BOC   \n",
       "87          PA  ...   Las Cabras                 0      NaN       NaN   \n",
       "88          PA  ...      Limones                 0      NaN       NaN   \n",
       "89          PA  ...       Ponuga                 0      NaN       NaN   \n",
       "90          PA  ...        Soloy                 0      NaN       NaN   \n",
       "\n",
       "    local_code                        home_link  \\\n",
       "0          NaN  https://www.tocumenpanama.aero/   \n",
       "1          NaN                              NaN   \n",
       "2          NaN   http://www.panamapacifico.com/   \n",
       "3          NaN                              NaN   \n",
       "87         NaN                              NaN   \n",
       "88         NaN                              NaN   \n",
       "89         NaN                              NaN   \n",
       "90         NaN                              NaN   \n",
       "\n",
       "                                       wikipedia_link  \\\n",
       "0   https://en.wikipedia.org/wiki/Tocumen_Internat...   \n",
       "1   https://en.wikipedia.org/wiki/Albrook_%22Marco...   \n",
       "2   https://en.wikipedia.org/wiki/Panam%C3%A1_Pac%...   \n",
       "3   https://en.wikipedia.org/wiki/Bocas_del_Toro_%...   \n",
       "87                                                NaN   \n",
       "88                                                NaN   \n",
       "89                                                NaN   \n",
       "90                                                NaN   \n",
       "\n",
       "                                       keywords score  \\\n",
       "0                                  La Joya No 1  1050   \n",
       "1                     Balboa. Albrook AFS. MPLB   750   \n",
       "2   HOW, Howard Air Force Base, Panama Pacifico   100   \n",
       "3                            Jose Ezequiel Hall   750   \n",
       "87                                          NaN     0   \n",
       "88                                          NaN     0   \n",
       "89                                          NaN     0   \n",
       "90                                          NaN     0   \n",
       "\n",
       "                 last_updated  \n",
       "0   2024-04-29T19:09:59+00:00  \n",
       "1   2024-05-18T12:23:24+00:00  \n",
       "2   2021-01-12T11:57:17+00:00  \n",
       "3   2021-08-07T11:19:30+00:00  \n",
       "87  2022-12-01T19:01:28+00:00  \n",
       "88  2023-01-13T20:27:06+00:00  \n",
       "89  2023-01-13T20:11:19+00:00  \n",
       "90  2022-10-23T00:48:07+00:00  \n",
       "\n",
       "[8 rows x 23 columns]"
      ]
     },
     "execution_count": 24,
     "metadata": {},
     "output_type": "execute_result"
    }
   ],
   "source": [
    "import pandas as pd\n",
    "infoairports=pd.read_csv(os.path.join(\"data\",\"pa-airports.csv\"))\n",
    "\n",
    "# some rows\n",
    "\n",
    "infoairports.iloc[[0,1,2,3,-4,-3,-2,-1],:] #head and tail"
   ]
  },
  {
   "cell_type": "markdown",
   "metadata": {
    "id": "iVMoMWWyjXfG"
   },
   "source": [
    "Limpiar data"
   ]
  },
  {
   "cell_type": "code",
   "execution_count": 25,
   "metadata": {
    "id": "I1HcYXwjjXfG"
   },
   "outputs": [
    {
     "data": {
      "text/html": [
       "<div>\n",
       "<style scoped>\n",
       "    .dataframe tbody tr th:only-of-type {\n",
       "        vertical-align: middle;\n",
       "    }\n",
       "\n",
       "    .dataframe tbody tr th {\n",
       "        vertical-align: top;\n",
       "    }\n",
       "\n",
       "    .dataframe thead th {\n",
       "        text-align: right;\n",
       "    }\n",
       "</style>\n",
       "<table border=\"1\" class=\"dataframe\">\n",
       "  <thead>\n",
       "    <tr style=\"text-align: right;\">\n",
       "      <th></th>\n",
       "      <th>id</th>\n",
       "      <th>ident</th>\n",
       "      <th>type</th>\n",
       "      <th>name</th>\n",
       "      <th>latitude_deg</th>\n",
       "      <th>longitude_deg</th>\n",
       "      <th>elevation_ft</th>\n",
       "      <th>continent</th>\n",
       "      <th>country_name</th>\n",
       "      <th>iso_country</th>\n",
       "      <th>...</th>\n",
       "      <th>municipality</th>\n",
       "      <th>scheduled_service</th>\n",
       "      <th>gps_code</th>\n",
       "      <th>iata_code</th>\n",
       "      <th>local_code</th>\n",
       "      <th>home_link</th>\n",
       "      <th>wikipedia_link</th>\n",
       "      <th>keywords</th>\n",
       "      <th>score</th>\n",
       "      <th>last_updated</th>\n",
       "    </tr>\n",
       "  </thead>\n",
       "  <tbody>\n",
       "    <tr>\n",
       "      <th>0</th>\n",
       "      <td>4791</td>\n",
       "      <td>MPMG</td>\n",
       "      <td>medium_airport</td>\n",
       "      <td>Marcos A. Gelabert International Airport</td>\n",
       "      <td>8.97334</td>\n",
       "      <td>-79.555603</td>\n",
       "      <td>31.0</td>\n",
       "      <td>NaN</td>\n",
       "      <td>Panama</td>\n",
       "      <td>PA</td>\n",
       "      <td>...</td>\n",
       "      <td>Albrook</td>\n",
       "      <td>1</td>\n",
       "      <td>MPMG</td>\n",
       "      <td>PAC</td>\n",
       "      <td>NaN</td>\n",
       "      <td>NaN</td>\n",
       "      <td>https://en.wikipedia.org/wiki/Albrook_%22Marco...</td>\n",
       "      <td>Balboa. Albrook AFS. MPLB</td>\n",
       "      <td>750</td>\n",
       "      <td>2024-05-18T12:23:24+00:00</td>\n",
       "    </tr>\n",
       "    <tr>\n",
       "      <th>1</th>\n",
       "      <td>30768</td>\n",
       "      <td>MPHO</td>\n",
       "      <td>small_airport</td>\n",
       "      <td>Panamá Pacífico International Airport</td>\n",
       "      <td>8.91479</td>\n",
       "      <td>-79.599602</td>\n",
       "      <td>52.0</td>\n",
       "      <td>NaN</td>\n",
       "      <td>Panama</td>\n",
       "      <td>PA</td>\n",
       "      <td>...</td>\n",
       "      <td>Panamá City</td>\n",
       "      <td>1</td>\n",
       "      <td>MPPA</td>\n",
       "      <td>BLB</td>\n",
       "      <td>NaN</td>\n",
       "      <td>http://www.panamapacifico.com/</td>\n",
       "      <td>https://en.wikipedia.org/wiki/Panam%C3%A1_Pac%...</td>\n",
       "      <td>HOW, Howard Air Force Base, Panama Pacifico</td>\n",
       "      <td>100</td>\n",
       "      <td>2021-01-12T11:57:17+00:00</td>\n",
       "    </tr>\n",
       "    <tr>\n",
       "      <th>2</th>\n",
       "      <td>4786</td>\n",
       "      <td>MPBO</td>\n",
       "      <td>medium_airport</td>\n",
       "      <td>Bocas del Toro International Airport</td>\n",
       "      <td>9.34085</td>\n",
       "      <td>-82.250801</td>\n",
       "      <td>10.0</td>\n",
       "      <td>NaN</td>\n",
       "      <td>Panama</td>\n",
       "      <td>PA</td>\n",
       "      <td>...</td>\n",
       "      <td>Isla Colón</td>\n",
       "      <td>1</td>\n",
       "      <td>MPBO</td>\n",
       "      <td>BOC</td>\n",
       "      <td>NaN</td>\n",
       "      <td>NaN</td>\n",
       "      <td>https://en.wikipedia.org/wiki/Bocas_del_Toro_%...</td>\n",
       "      <td>Jose Ezequiel Hall</td>\n",
       "      <td>750</td>\n",
       "      <td>2021-08-07T11:19:30+00:00</td>\n",
       "    </tr>\n",
       "    <tr>\n",
       "      <th>3</th>\n",
       "      <td>4789</td>\n",
       "      <td>MPDA</td>\n",
       "      <td>medium_airport</td>\n",
       "      <td>Enrique Malek International Airport</td>\n",
       "      <td>8.39100</td>\n",
       "      <td>-82.434998</td>\n",
       "      <td>89.0</td>\n",
       "      <td>NaN</td>\n",
       "      <td>Panama</td>\n",
       "      <td>PA</td>\n",
       "      <td>...</td>\n",
       "      <td>David</td>\n",
       "      <td>1</td>\n",
       "      <td>MPDA</td>\n",
       "      <td>DAV</td>\n",
       "      <td>NaN</td>\n",
       "      <td>NaN</td>\n",
       "      <td>https://en.wikipedia.org/wiki/Enrique_Malek_In...</td>\n",
       "      <td>NaN</td>\n",
       "      <td>750</td>\n",
       "      <td>2021-08-07T11:30:19+00:00</td>\n",
       "    </tr>\n",
       "    <tr>\n",
       "      <th>4</th>\n",
       "      <td>4790</td>\n",
       "      <td>MPEJ</td>\n",
       "      <td>medium_airport</td>\n",
       "      <td>Enrique Adolfo Jimenez Airport</td>\n",
       "      <td>9.35664</td>\n",
       "      <td>-79.867401</td>\n",
       "      <td>25.0</td>\n",
       "      <td>NaN</td>\n",
       "      <td>Panama</td>\n",
       "      <td>PA</td>\n",
       "      <td>...</td>\n",
       "      <td>Colón</td>\n",
       "      <td>1</td>\n",
       "      <td>MPEJ</td>\n",
       "      <td>ONX</td>\n",
       "      <td>NaN</td>\n",
       "      <td>NaN</td>\n",
       "      <td>https://en.wikipedia.org/wiki/Enrique_Adolfo_J...</td>\n",
       "      <td>NaN</td>\n",
       "      <td>750</td>\n",
       "      <td>2024-05-18T12:22:03+00:00</td>\n",
       "    </tr>\n",
       "  </tbody>\n",
       "</table>\n",
       "<p>5 rows × 23 columns</p>\n",
       "</div>"
      ],
      "text/plain": [
       "      id ident            type                                      name  \\\n",
       "0   4791  MPMG  medium_airport  Marcos A. Gelabert International Airport   \n",
       "1  30768  MPHO   small_airport     Panamá Pacífico International Airport   \n",
       "2   4786  MPBO  medium_airport      Bocas del Toro International Airport   \n",
       "3   4789  MPDA  medium_airport       Enrique Malek International Airport   \n",
       "4   4790  MPEJ  medium_airport            Enrique Adolfo Jimenez Airport   \n",
       "\n",
       "   latitude_deg  longitude_deg  elevation_ft continent country_name  \\\n",
       "0       8.97334     -79.555603          31.0       NaN       Panama   \n",
       "1       8.91479     -79.599602          52.0       NaN       Panama   \n",
       "2       9.34085     -82.250801          10.0       NaN       Panama   \n",
       "3       8.39100     -82.434998          89.0       NaN       Panama   \n",
       "4       9.35664     -79.867401          25.0       NaN       Panama   \n",
       "\n",
       "  iso_country  ... municipality scheduled_service gps_code iata_code  \\\n",
       "0          PA  ...      Albrook                 1     MPMG       PAC   \n",
       "1          PA  ...  Panamá City                 1     MPPA       BLB   \n",
       "2          PA  ...   Isla Colón                 1     MPBO       BOC   \n",
       "3          PA  ...        David                 1     MPDA       DAV   \n",
       "4          PA  ...        Colón                 1     MPEJ       ONX   \n",
       "\n",
       "   local_code                       home_link  \\\n",
       "0         NaN                             NaN   \n",
       "1         NaN  http://www.panamapacifico.com/   \n",
       "2         NaN                             NaN   \n",
       "3         NaN                             NaN   \n",
       "4         NaN                             NaN   \n",
       "\n",
       "                                      wikipedia_link  \\\n",
       "0  https://en.wikipedia.org/wiki/Albrook_%22Marco...   \n",
       "1  https://en.wikipedia.org/wiki/Panam%C3%A1_Pac%...   \n",
       "2  https://en.wikipedia.org/wiki/Bocas_del_Toro_%...   \n",
       "3  https://en.wikipedia.org/wiki/Enrique_Malek_In...   \n",
       "4  https://en.wikipedia.org/wiki/Enrique_Adolfo_J...   \n",
       "\n",
       "                                      keywords score  \\\n",
       "0                    Balboa. Albrook AFS. MPLB   750   \n",
       "1  HOW, Howard Air Force Base, Panama Pacifico   100   \n",
       "2                           Jose Ezequiel Hall   750   \n",
       "3                                          NaN   750   \n",
       "4                                          NaN   750   \n",
       "\n",
       "                last_updated  \n",
       "0  2024-05-18T12:23:24+00:00  \n",
       "1  2021-01-12T11:57:17+00:00  \n",
       "2  2021-08-07T11:19:30+00:00  \n",
       "3  2021-08-07T11:30:19+00:00  \n",
       "4  2024-05-18T12:22:03+00:00  \n",
       "\n",
       "[5 rows x 23 columns]"
      ]
     },
     "execution_count": 25,
     "metadata": {},
     "output_type": "execute_result"
    }
   ],
   "source": [
    "# bye first row\n",
    "infoairports.drop(index=0,inplace=True)\n",
    "infoairports.reset_index(drop=True, inplace=True)\n",
    "infoairports.head()"
   ]
  },
  {
   "cell_type": "code",
   "execution_count": 26,
   "metadata": {
    "id": "E1vsOOHqjXfG"
   },
   "outputs": [
    {
     "data": {
      "text/plain": [
       "Index(['id', 'ident', 'type', 'name', 'latitude_deg', 'longitude_deg',\n",
       "       'elevation_ft', 'continent', 'country_name', 'iso_country',\n",
       "       'region_name', 'iso_region', 'local_region', 'municipality',\n",
       "       'scheduled_service', 'gps_code', 'iata_code', 'local_code', 'home_link',\n",
       "       'wikipedia_link', 'keywords', 'score', 'last_updated'],\n",
       "      dtype='object')"
      ]
     },
     "execution_count": 26,
     "metadata": {},
     "output_type": "execute_result"
    }
   ],
   "source": [
    "# keep the  columns needed\n",
    "\n",
    "infoairports.columns"
   ]
  },
  {
   "cell_type": "code",
   "execution_count": 27,
   "metadata": {
    "id": "rdmhklwYjXfG"
   },
   "outputs": [],
   "source": [
    "keep=['name','type','latitude_deg', 'longitude_deg','elevation_ft','region_name','municipality']\n",
    "infoairports=infoairports.loc[:,keep]"
   ]
  },
  {
   "cell_type": "code",
   "execution_count": 28,
   "metadata": {
    "id": "8k0q1E-ljXfH"
   },
   "outputs": [
    {
     "name": "stdout",
     "output_type": "stream",
     "text": [
      "<class 'pandas.core.frame.DataFrame'>\n",
      "RangeIndex: 90 entries, 0 to 89\n",
      "Data columns (total 7 columns):\n",
      " #   Column         Non-Null Count  Dtype  \n",
      "---  ------         --------------  -----  \n",
      " 0   name           90 non-null     object \n",
      " 1   type           90 non-null     object \n",
      " 2   latitude_deg   90 non-null     float64\n",
      " 3   longitude_deg  90 non-null     float64\n",
      " 4   elevation_ft   89 non-null     float64\n",
      " 5   region_name    90 non-null     object \n",
      " 6   municipality   90 non-null     object \n",
      "dtypes: float64(3), object(4)\n",
      "memory usage: 5.1+ KB\n"
     ]
    }
   ],
   "source": [
    "infoairports.info()"
   ]
  },
  {
   "cell_type": "markdown",
   "metadata": {
    "id": "_7OKku7YjXfH"
   },
   "source": [
    "Fomateo"
   ]
  },
  {
   "cell_type": "code",
   "execution_count": 29,
   "metadata": {
    "id": "F67P5HU3jXfH"
   },
   "outputs": [
    {
     "name": "stdout",
     "output_type": "stream",
     "text": [
      "<class 'pandas.core.frame.DataFrame'>\n",
      "RangeIndex: 90 entries, 0 to 89\n",
      "Data columns (total 7 columns):\n",
      " #   Column         Non-Null Count  Dtype  \n",
      "---  ------         --------------  -----  \n",
      " 0   name           90 non-null     object \n",
      " 1   type           90 non-null     object \n",
      " 2   latitude_deg   90 non-null     float64\n",
      " 3   longitude_deg  90 non-null     float64\n",
      " 4   elevation_ft   89 non-null     float64\n",
      " 5   region_name    90 non-null     object \n",
      " 6   municipality   90 non-null     object \n",
      "dtypes: float64(3), object(4)\n",
      "memory usage: 5.1+ KB\n"
     ]
    }
   ],
   "source": [
    "numericCols=['latitude_deg', 'longitude_deg','elevation_ft']\n",
    "infoairports[numericCols]=infoairports.loc[:,numericCols].apply(lambda x:pd.to_numeric(x))\n",
    "\n",
    "# now\n",
    "infoairports.info()"
   ]
  },
  {
   "cell_type": "code",
   "execution_count": 30,
   "metadata": {
    "id": "DLWfQwqajXfH"
   },
   "outputs": [
    {
     "data": {
      "text/plain": [
       "<Axes: xlabel='longitude_deg', ylabel='latitude_deg'>"
      ]
     },
     "execution_count": 30,
     "metadata": {},
     "output_type": "execute_result"
    },
    {
     "data": {
      "image/png": "[encoded data removed]",
      "text/plain": [
       "<Figure size 640x480 with 1 Axes>"
      ]
     },
     "metadata": {},
     "output_type": "display_data"
    }
   ],
   "source": [
    "# let's plot\n",
    "\n",
    "base = panama_5469.plot(color='white', edgecolor='black') #unprojected\n",
    "\n",
    "infoairports.plot.scatter(x = 'longitude_deg', y = 'latitude_deg',ax=base)"
   ]
  },
  {
   "cell_type": "markdown",
   "metadata": {},
   "source": [
    "Corregir error"
   ]
  },
  {
   "cell_type": "code",
   "execution_count": 34,
   "metadata": {},
   "outputs": [],
   "source": [
    "airports=gpd.GeoDataFrame(data=infoairports.copy(),\n",
    "                 geometry=gpd.points_from_xy(infoairports.longitude_deg,\n",
    "                                             infoairports.latitude_deg), \n",
    "                 crs=panama.crs.to_epsg())# the coordinates were in degrees - unprojected\n"
   ]
  },
  {
   "cell_type": "markdown",
   "metadata": {},
   "source": [
    "Primera prueba"
   ]
  },
  {
   "cell_type": "code",
   "execution_count": 35,
   "metadata": {},
   "outputs": [
    {
     "data": {
      "text/plain": [
       "<Axes: >"
      ]
     },
     "execution_count": 35,
     "metadata": {},
     "output_type": "execute_result"
    },
    {
     "data": {
      "image/png": "[encoded data removed]",
      "text/plain": [
       "<Figure size 640x480 with 1 Axes>"
      ]
     },
     "metadata": {},
     "output_type": "display_data"
    }
   ],
   "source": [
    "# does it look better?\n",
    "\n",
    "# let's plot\n",
    "\n",
    "base =panama_5469.plot(color='white', edgecolor='black')\n",
    "airports.plot(ax=base)"
   ]
  },
  {
   "cell_type": "markdown",
   "metadata": {},
   "source": [
    "Tipo de datos"
   ]
  },
  {
   "cell_type": "code",
   "execution_count": 36,
   "metadata": {},
   "outputs": [
    {
     "data": {
      "text/plain": [
       "(geopandas.geodataframe.GeoDataFrame, pandas.core.frame.DataFrame)"
      ]
     },
     "execution_count": 36,
     "metadata": {},
     "output_type": "execute_result"
    }
   ],
   "source": [
    "#remember:\n",
    "type(airports), type(infoairports)"
   ]
  },
  {
   "cell_type": "markdown",
   "metadata": {
    "id": "5UxVoNOsjXfJ"
   },
   "source": [
    "Mapa con los datos proyectados"
   ]
  },
  {
   "cell_type": "code",
   "execution_count": 37,
   "metadata": {
    "id": "18swbwLLjXfJ"
   },
   "outputs": [
    {
     "data": {
      "text/plain": [
       "<Axes: >"
      ]
     },
     "execution_count": 37,
     "metadata": {},
     "output_type": "execute_result"
    },
    {
     "data": {
      "image/png": "[encoded data removed]",
      "text/plain": [
       "<Figure size 640x480 with 1 Axes>"
      ]
     },
     "metadata": {},
     "output_type": "display_data"
    }
   ],
   "source": [
    "airports_5469=airports.to_crs(5469)\n",
    "\n",
    "## then\n",
    "\n",
    "base = panama_5469.plot(color='white', edgecolor='black')\n",
    "airports_5469.plot(ax=base)"
   ]
  },
  {
   "cell_type": "code",
   "execution_count": 39,
   "metadata": {},
   "outputs": [],
   "source": [
    "import warnings\n",
    "warnings.simplefilter(action='ignore', category=FutureWarning)"
   ]
  },
  {
   "cell_type": "markdown",
   "metadata": {},
   "source": [
    "### Publicar"
   ]
  },
  {
   "cell_type": "code",
   "execution_count": 40,
   "metadata": {
    "id": "Buju8r_sjXfK"
   },
   "outputs": [],
   "source": [
    "# adding the airports\n",
    "airports_5469.to_file(os.path.join(\"maps\",\"panamaMaps_5641.gpkg\"), layer='airports', driver=\"GPKG\")"
   ]
  },
  {
   "cell_type": "markdown",
   "metadata": {},
   "source": [
    "# FIN"
   ]
  }
 ],
 "metadata": {
  "anaconda-cloud": {
   "attach-environment": true,
   "summary": "test"
  },
  "colab": {
   "provenance": []
  },
  "hide_input": false,
  "kernelspec": {
   "display_name": "Python 3 (ipykernel)",
   "language": "python",
   "name": "python3"
  },
  "language_info": {
   "codemirror_mode": {
    "name": "ipython",
    "version": 3
   },
   "file_extension": ".py",
   "mimetype": "text/x-python",
   "name": "python",
   "nbconvert_exporter": "python",
   "pygments_lexer": "ipython3",
   "version": "3.11.4"
  },
  "toc-autonumbering": false
 },
 "nbformat": 4,
 "nbformat_minor": 4
}
